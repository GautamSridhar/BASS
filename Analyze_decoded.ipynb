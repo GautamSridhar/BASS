{
 "cells": [
  {
   "cell_type": "code",
   "execution_count": null,
   "id": "appropriate-preference",
   "metadata": {},
   "outputs": [],
   "source": [
    "import os\n",
    "import time\n",
    "import sys\n",
    "sys.path.append('./BASS/')\n",
    "sys.path.append('./Utils')\n",
    "\n",
    "import numpy as np\n",
    "import pandas as pd\n",
    "import matplotlib.pyplot as plt\n",
    "\n",
    "import bass as md\n",
    "from GMM import GMM_model\n",
    "from save_load_utils import *"
   ]
  },
  {
   "cell_type": "code",
   "execution_count": null,
   "id": "finished-cooperative",
   "metadata": {},
   "outputs": [],
   "source": [
    "pathData = './Data/'\n",
    "DataName = 'toy'\n",
    "condition = 0\n",
    "\n",
    "pathGMM = './GMM/'\n",
    "GMMName = 'toy'"
   ]
  },
  {
   "cell_type": "code",
   "execution_count": null,
   "id": "dietary-tonight",
   "metadata": {},
   "outputs": [],
   "source": [
    "dataset = np.load(pathData + DataName + \"_dataset_condition{}.npy\".format(condition))\n",
    "lengths = np.load(pathData + DataName + \"_lengths_condition{}.npy\".format(condition))\n",
    "\n",
    "\n",
    "means_ = np.load(pathGMM + GMMName + '_means.npy')\n",
    "covars_ = np.load(pathGMM + GMMName + '_covars.npy')\n",
    "weights_ = np.load(pathGMM + GMMName + '_weights.npy')\n",
    "\n",
    "model_fit = GMM_model(means_.shape[0])\n",
    "model_fit._read_params(means_,covars_,weights_)"
   ]
  },
  {
   "cell_type": "code",
   "execution_count": null,
   "id": "amber-twenty",
   "metadata": {},
   "outputs": [],
   "source": [
    "# Load BASS dictionary\n",
    "OutPath = './Results/'\n",
    "Exp = 'toy'\n",
    "\n",
    "Bdict = pd.read_csv(OutPath + DataName + '/' + Exp + '_condition_{}/'.format(condition) + 'Bass_dictionary.csv' )\n",
    "words = np.load(OutPath + DataName + '/' + Exp + '_condition_{}'.format(condition) + '_seg_words.npy')\n",
    "lsums = np.load(OutPath + DataName + '/' + Exp + '_condition_{}'.format(condition) + '_seg_words.npy')"
   ]
  },
  {
   "cell_type": "code",
   "execution_count": null,
   "id": "bizarre-software",
   "metadata": {},
   "outputs": [],
   "source": [
    "seq = Bdict.to_numpy()\n",
    "\n",
    "# List of unique motifs occuring in the recording decoded\n",
    "unique_motif_n = np.unique(words)\n",
    "unique_motifs = [seq[w,2] for w in unique_motif_n]\n",
    "\n",
    "#Cumultive sum representing the starting and ending index of motifs in the recording (in units of bouts)\n",
    "l_cumsum = np.insert(lsums,0,0)"
   ]
  },
  {
   "cell_type": "code",
   "execution_count": null,
   "id": "fossil-button",
   "metadata": {},
   "outputs": [],
   "source": []
  },
  {
   "cell_type": "code",
   "execution_count": null,
   "id": "divided-technology",
   "metadata": {},
   "outputs": [],
   "source": []
  },
  {
   "cell_type": "code",
   "execution_count": null,
   "id": "consistent-lawyer",
   "metadata": {},
   "outputs": [],
   "source": []
  }
 ],
 "metadata": {
  "kernelspec": {
   "display_name": "Python 3",
   "language": "python",
   "name": "python3"
  },
  "language_info": {
   "codemirror_mode": {
    "name": "ipython",
    "version": 3
   },
   "file_extension": ".py",
   "mimetype": "text/x-python",
   "name": "python",
   "nbconvert_exporter": "python",
   "pygments_lexer": "ipython3",
   "version": "3.8.2"
  }
 },
 "nbformat": 4,
 "nbformat_minor": 5
}
