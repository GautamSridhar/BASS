{
 "cells": [
  {
   "cell_type": "code",
   "execution_count": 1,
   "id": "funky-trinidad",
   "metadata": {},
   "outputs": [],
   "source": [
    "import os\n",
    "import time\n",
    "import sys\n",
    "sys.path.append('./BASS/')\n",
    "sys.path.append('./Utils')\n",
    "\n",
    "import numpy as np\n",
    "import pandas as pd\n",
    "import matplotlib.pyplot as plt\n",
    "from sklearn.decomposition import PCA\n",
    "\n",
    "from GMM import GMM_model, GMM_synthetic\n",
    "import bass as md"
   ]
  },
  {
   "cell_type": "code",
   "execution_count": 2,
   "id": "perceived-string",
   "metadata": {},
   "outputs": [],
   "source": [
    "# 7 50 5 10000 0.0 0.0 0.15 4 0.0 1\n",
    "\n",
    "Sigma = 7\n",
    "dict_size = 50\n",
    "wordlength = 5\n",
    "L = 5000 \n",
    "std = 1.0/4\n",
    "\n",
    "eps_true = 0.0\n",
    "p_d_true = 0.5\n",
    "p_ins_true = 0.2\n",
    "p_b = 0.0\n",
    "\n",
    "params_true = np.array([eps_true,p_d_true,p_ins_true,0,0,Sigma])"
   ]
  },
  {
   "cell_type": "code",
   "execution_count": 45,
   "id": "alone-ceiling",
   "metadata": {},
   "outputs": [],
   "source": [
    "np.random.seed(121)\n",
    "alphfreqs = np.random.dirichlet(5*np.ones(Sigma))\n",
    "model_true = GMM_synthetic(params_true, std)\n",
    "w_dict_true = md.generate_w_dict(alphfreqs,dict_size,wordlength)"
   ]
  },
  {
   "cell_type": "code",
   "execution_count": 46,
   "id": "greater-version",
   "metadata": {},
   "outputs": [
    {
     "name": "stdout",
     "output_type": "stream",
     "text": [
      "[array([4, 6, 6, 6, 5]), array([3, 3, 6, 6, 5, 0, 4]), array([0, 2]), array([3, 6, 6, 4]), array([6, 0, 5, 5, 5, 6, 6, 2, 6, 3]), array([3, 5, 6, 6]), array([3, 1, 2, 2, 5]), array([4, 3, 5, 5]), array([6, 2]), array([5, 2, 6, 4, 4, 1, 3, 1, 5]), array([3, 2, 0, 5, 0, 0, 5]), array([4, 5, 1, 3, 6, 3]), array([3, 5, 0, 5, 4, 6, 4]), array([5, 6, 3, 1]), array([6, 4, 4]), array([2, 6, 4, 0]), array([0, 1]), array([4, 5, 4, 1, 5, 0]), array([5, 6, 5, 6, 3, 2, 3]), array([2, 3, 4]), array([0, 4, 6]), array([5, 6, 6, 6, 6]), array([3, 1, 5, 6, 2]), array([6, 5, 6, 6, 0, 2]), array([6, 3, 1, 3, 4, 4]), array([3, 5]), array([6, 6, 2, 6, 0]), array([3, 3, 2, 5, 1]), array([3, 1, 6, 5, 0, 0]), array([0, 6, 6, 2]), array([1, 4, 3, 6]), array([1, 6]), array([4, 0, 1]), array([5, 2, 6, 6, 1, 6, 6]), array([4, 6, 6, 2, 6]), array([6, 1, 6, 2]), array([6, 4, 3, 2]), array([4, 6, 0]), array([3, 6, 4, 5, 5, 1, 3]), array([5, 5, 3]), array([6, 5, 1, 5, 0, 4]), array([0, 6]), array([2, 1, 1, 1, 3, 0, 0]), array([6, 1, 6, 1, 3]), array([5, 6, 5, 3, 6, 3]), array([5, 1, 3, 3]), array([4, 3, 4, 1, 2, 4, 5, 1, 6, 3]), array([3, 6, 6]), array([6, 4, 6, 6]), array([3, 5, 3, 6]), array([0]), array([1]), array([2]), array([3]), array([4]), array([5]), array([6])]\n"
     ]
    }
   ],
   "source": [
    "print(w_dict_true)"
   ]
  },
  {
   "cell_type": "code",
   "execution_count": 47,
   "id": "complicated-reform",
   "metadata": {},
   "outputs": [],
   "source": [
    "np.random.seed(121)\n",
    "P_w_true = np.zeros(len(w_dict_true))\n",
    "P_w_true[:-Sigma] = np.random.dirichlet(1.0*np.ones(len(w_dict_true) - Sigma))*(1-p_b)\n",
    "P_w_true[-Sigma:] = alphfreqs*p_b\n",
    "Y,words_true,Y_data = md.generate_Y(L, P_w_true, w_dict_true, params_true,model_true)\n",
    "lengths_Y = np.array([len(Y)],dtype = int)"
   ]
  },
  {
   "cell_type": "code",
   "execution_count": 48,
   "id": "opponent-pasta",
   "metadata": {},
   "outputs": [],
   "source": [
    "P_dict_sorted = []\n",
    "w_dict_sorted = []\n",
    "num_instances = []\n",
    "idx = np.argsort(-P_w_true)\n",
    "motif_lengths = [len(w) for w in w_dict_true]\n",
    "lmean = np.mean(motif_lengths)\n",
    "\n",
    "for i in idx:\n",
    "    P_dict_sorted.append(P_w_true[i])\n",
    "    w_dict_sorted.append(w_dict_true[i])\n",
    "    num_instances.append(int(P_w_true[i]*len(Y)/lmean))\n",
    "    "
   ]
  },
  {
   "cell_type": "code",
   "execution_count": 49,
   "id": "absent-binding",
   "metadata": {},
   "outputs": [
    {
     "name": "stdout",
     "output_type": "stream",
     "text": [
      "    Probability  Number of instances                       Sequences\n",
      "0      0.075831                   87     [5, 2, 6, 4, 4, 1, 3, 1, 5]\n",
      "1      0.066811                   76           [3, 2, 0, 5, 0, 0, 5]\n",
      "2      0.064301                   73                 [6, 6, 2, 6, 0]\n",
      "3      0.058106                   66              [4, 5, 4, 1, 5, 0]\n",
      "4      0.042684                   49                    [5, 6, 3, 1]\n",
      "5      0.042446                   48                       [5, 5, 3]\n",
      "6      0.038826                   44  [6, 0, 5, 5, 5, 6, 6, 2, 6, 3]\n",
      "7      0.038707                   44              [6, 3, 1, 3, 4, 4]\n",
      "8      0.037651                   43           [5, 2, 6, 6, 1, 6, 6]\n",
      "9      0.033304                   38           [3, 6, 4, 5, 5, 1, 3]\n",
      "10     0.032497                   37                          [3, 5]\n",
      "11     0.029969                   34                    [4, 3, 5, 5]\n",
      "12     0.029939                   34                    [0, 6, 6, 2]\n",
      "13     0.029192                   33                 [3, 3, 2, 5, 1]\n",
      "14     0.027206                   31              [6, 5, 1, 5, 0, 4]\n",
      "15     0.024497                   28              [3, 1, 6, 5, 0, 0]\n",
      "16     0.023352                   26                 [6, 1, 6, 1, 3]\n",
      "17     0.022614                   26                       [4, 0, 1]\n",
      "18     0.021332                   24                    [2, 6, 4, 0]\n",
      "19     0.019752                   22           [2, 1, 1, 1, 3, 0, 0]\n",
      "20     0.019048                   21              [6, 5, 6, 6, 0, 2]\n",
      "21     0.018345                   21                       [2, 3, 4]\n",
      "22     0.017770                   20                 [3, 1, 2, 2, 5]\n",
      "23     0.015694                   18                    [1, 4, 3, 6]\n",
      "24     0.015007                   17                    [6, 4, 6, 6]\n",
      "25     0.014739                   16              [4, 5, 1, 3, 6, 3]\n",
      "26     0.013870                   15                          [1, 6]\n",
      "27     0.011942                   13                       [4, 6, 0]\n",
      "28     0.011477                   13                    [3, 5, 6, 6]\n",
      "29     0.011392                   13           [5, 6, 5, 6, 3, 2, 3]\n",
      "30     0.011367                   13                       [6, 4, 4]\n",
      "31     0.010752                   12                    [3, 5, 3, 6]\n",
      "32     0.010472                   12                    [6, 4, 3, 2]\n",
      "33     0.007666                    8                          [0, 1]\n",
      "34     0.006256                    7                          [6, 2]\n",
      "35     0.006176                    7                       [0, 4, 6]\n",
      "36     0.006154                    7                       [3, 6, 6]\n",
      "37     0.005808                    6                          [0, 2]\n",
      "38     0.005603                    6                 [5, 6, 6, 6, 6]\n",
      "39     0.005183                    5           [3, 3, 6, 6, 5, 0, 4]\n",
      "40     0.003609                    4                    [3, 6, 6, 4]\n",
      "41     0.003443                    3                 [4, 6, 6, 2, 6]\n",
      "42     0.002585                    2                 [4, 6, 6, 6, 5]\n",
      "43     0.001669                    1              [5, 6, 5, 3, 6, 3]\n",
      "44     0.001652                    1                    [5, 1, 3, 3]\n",
      "45     0.001250                    1                          [0, 6]\n",
      "46     0.000855                    0                 [3, 1, 5, 6, 2]\n",
      "47     0.000404                    0           [3, 5, 0, 5, 4, 6, 4]\n",
      "48     0.000399                    0                    [6, 1, 6, 2]\n",
      "49     0.000394                    0  [4, 3, 4, 1, 2, 4, 5, 1, 6, 3]\n",
      "50     0.000000                    0                             [5]\n",
      "51     0.000000                    0                             [0]\n",
      "52     0.000000                    0                             [1]\n",
      "53     0.000000                    0                             [2]\n",
      "54     0.000000                    0                             [3]\n",
      "55     0.000000                    0                             [4]\n",
      "56     0.000000                    0                             [6]\n"
     ]
    }
   ],
   "source": [
    "full_dict = pd.DataFrame({'Probability':P_dict_sorted,'Number of instances':num_instances,'Sequences':w_dict_sorted})\n",
    "print(full_dict)"
   ]
  },
  {
   "cell_type": "code",
   "execution_count": 50,
   "id": "valid-language",
   "metadata": {},
   "outputs": [],
   "source": [
    "full_dict.to_csv('./Data/Synthetic_validation/Synthetic_truedict_condition1.csv')"
   ]
  },
  {
   "cell_type": "code",
   "execution_count": 21,
   "id": "golden-cannon",
   "metadata": {},
   "outputs": [],
   "source": [
    "# np.save('./Data/synth_dataset_condition1',Y_data)\n",
    "# np.save('./Data/synth_lengths_condition1',lengths_Y)"
   ]
  },
  {
   "cell_type": "code",
   "execution_count": 22,
   "id": "decreased-quarter",
   "metadata": {},
   "outputs": [
    {
     "name": "stdout",
     "output_type": "stream",
     "text": [
      "[5003]\n"
     ]
    }
   ],
   "source": [
    "print(lengths_Y)"
   ]
  },
  {
   "cell_type": "code",
   "execution_count": 11,
   "id": "seventh-separate",
   "metadata": {},
   "outputs": [
    {
     "data": {
      "text/plain": [
       "<matplotlib.collections.PathCollection at 0x13b298e80>"
      ]
     },
     "execution_count": 11,
     "metadata": {},
     "output_type": "execute_result"
    },
    {
     "data": {
      "image/png": "[encoded data removed]",
      "text/plain": [
       "<Figure size 432x288 with 1 Axes>"
      ]
     },
     "metadata": {
      "needs_background": "light"
     },
     "output_type": "display_data"
    }
   ],
   "source": [
    "plt.scatter(Y_data[:,0],Y_data[:,1])"
   ]
  },
  {
   "cell_type": "code",
   "execution_count": 10,
   "id": "matched-journal",
   "metadata": {},
   "outputs": [
    {
     "name": "stdout",
     "output_type": "stream",
     "text": [
      "[]\n",
      "Dictionary length 33\n",
      "[]\n",
      "Pruned length 17\n",
      "1 iter, w_dict length = 17, Train -logL = 1.686\n",
      "Dictionary length 50\n",
      "[35 36 45 46 48]\n",
      "Pruned length 30\n",
      "2 iter, w_dict length = 30, Train -logL = 1.571\n",
      "Dictionary length 64\n",
      "[49 53 54]\n",
      "Pruned length 36\n",
      "3 iter, w_dict length = 36, Train -logL = 1.365\n",
      "Dictionary length 64\n",
      "[52 53]\n",
      "Pruned length 32\n",
      "4 iter, w_dict length = 32, Train -logL = 1.133\n",
      "Dictionary length 48\n",
      "[]\n",
      "Pruned length 38\n",
      "5 iter, w_dict length = 38, Train -logL = 1.026\n",
      "Dictionary length 55\n",
      "[]\n",
      "Pruned length 42\n",
      "6 iter, w_dict length = 42, Train -logL = 0.910\n",
      "Dictionary length 54\n",
      "[50 51]\n",
      "Pruned length 41\n",
      "7 iter, w_dict length = 41, Train -logL = 0.851\n",
      "Dictionary length 47\n",
      "[]\n",
      "Pruned length 44\n",
      "8 iter, w_dict length = 44, Train -logL = 0.814\n",
      "Dictionary length 48\n",
      "[47]\n",
      "Pruned length 45\n",
      "9 iter, w_dict length = 45, Train -logL = 0.808\n",
      "Dictionary length 46\n",
      "[]\n",
      "Pruned length 44\n",
      "10 iter, w_dict length = 44, Train -logL = 0.801\n",
      "Dictionary length 44\n",
      "[]\n",
      "Pruned length 44\n",
      "11 iter, w_dict length = 44, Train -logL = 0.801\n",
      "Dictionary length 44\n",
      "[]\n",
      "Pruned length 44\n",
      "12 iter, w_dict length = 44, Train -logL = 0.801\n",
      "[]\n",
      "Final length of w_dict = 44\n",
      "Done, w_dict length = 44\n"
     ]
    }
   ],
   "source": [
    "entropy = md.get_entropy(Y)\n",
    "w_thr = 1e-5*np.exp(-entropy)\n",
    "eps = 0.0\n",
    "p_d = 0.5 \n",
    "p_ins = 0.2 #Unused\n",
    "\n",
    "Sigma = 7 \n",
    "Jthr = 0.3\n",
    "params = np.array([eps,p_d,p_ins, w_thr, Jthr, Sigma], dtype=float)\n",
    "P_w, w_dict = md.solve_dictionary(Y,lengths_Y,params,model_true,15) #Solves for the dictionary. "
   ]
  },
  {
   "cell_type": "code",
   "execution_count": 22,
   "id": "absolute-beginning",
   "metadata": {},
   "outputs": [
    {
     "name": "stdout",
     "output_type": "stream",
     "text": [
      "\n",
      "\n",
      "Dictionary\n",
      "[3 2 6 4 0 4]\n",
      "\n",
      "\n",
      "\n",
      "\n",
      "True Dictionary\n",
      "[3 2 6 4 0 4]\n",
      "\n",
      "\n"
     ]
    }
   ],
   "source": [
    "print(\"\\n\")\n",
    "#Output\n",
    "print(\"Dictionary\")\n",
    "print(w_dict[22])\n",
    "\n",
    "print(\"\\n\")\n",
    "\n",
    "print(\"\\n\")\n",
    "#Output\n",
    "print(\"True Dictionary\")\n",
    "print(w_dict_true[13])\n",
    "print(\"\\n\")"
   ]
  },
  {
   "cell_type": "code",
   "execution_count": 20,
   "id": "hidden-marking",
   "metadata": {},
   "outputs": [
    {
     "name": "stdout",
     "output_type": "stream",
     "text": [
      "[13 30 36 32  0 34 29 11 44 15 18  1 16 28 35  3 42 14 38 31  8 26 10 41\n",
      "  5 20 22 39 37 45  6 33 49  9  2 40 46 17  4 21 19 43 12 25 47 23  7 48\n",
      " 24 27 54 50 55 51 53 52 56]\n",
      "0.06784963962068925\n"
     ]
    }
   ],
   "source": [
    "idx = np.argsort(P_w_true)[::-1]\n",
    "print(idx)\n",
    "print(P_w_true[13])"
   ]
  },
  {
   "cell_type": "code",
   "execution_count": 17,
   "id": "existing-sugar",
   "metadata": {},
   "outputs": [
    {
     "name": "stdout",
     "output_type": "stream",
     "text": [
      "[22 24 16 19 20 17  7 33 13  8 29 30 15 27 11  2  9  1 31 38 14 18 32 34\n",
      " 25 40 26 37 12  3 41  5 36 28 35  4 21  6 10  0 39 43 42 23]\n",
      "[0.0633771  0.05454514 0.05163899 0.05162916 0.05051882 0.04265023\n",
      " 0.03948246 0.0377097  0.03746888 0.03735276 0.03573001 0.03572898\n",
      " 0.03474793 0.03143759 0.02676955 0.0266027  0.02495036 0.02474071\n",
      " 0.02084391 0.02084376 0.01947906 0.01687981 0.0158901  0.0156344\n",
      " 0.01498817 0.0132585  0.01246848 0.01089545 0.01079265 0.01022463\n",
      " 0.00991927 0.00968817 0.00909676 0.00890605 0.00850647 0.00790321\n",
      " 0.00790096 0.00786443 0.00773506 0.00771853 0.00759289 0.00694526\n",
      " 0.00592468 0.00501831]\n"
     ]
    }
   ],
   "source": [
    "idx = np.argsort(P_w)[::-1]\n",
    "print(idx)\n",
    "print(P_w[idx])"
   ]
  },
  {
   "cell_type": "code",
   "execution_count": 18,
   "id": "quiet-commerce",
   "metadata": {},
   "outputs": [
    {
     "ename": "TypeError",
     "evalue": "only integer scalar arrays can be converted to a scalar index",
     "output_type": "error",
     "traceback": [
      "\u001b[0;31m---------------------------------------------------------------------------\u001b[0m",
      "\u001b[0;31mTypeError\u001b[0m                                 Traceback (most recent call last)",
      "\u001b[0;32m<ipython-input-18-aa413daa3dd6>\u001b[0m in \u001b[0;36m<module>\u001b[0;34m\u001b[0m\n\u001b[0;32m----> 1\u001b[0;31m \u001b[0mprint\u001b[0m\u001b[0;34m(\u001b[0m\u001b[0mw_dict\u001b[0m\u001b[0;34m[\u001b[0m\u001b[0midx\u001b[0m\u001b[0;34m]\u001b[0m\u001b[0;34m)\u001b[0m\u001b[0;34m\u001b[0m\u001b[0;34m\u001b[0m\u001b[0m\n\u001b[0m",
      "\u001b[0;31mTypeError\u001b[0m: only integer scalar arrays can be converted to a scalar index"
     ]
    }
   ],
   "source": [
    "print(w_dict[idx])"
   ]
  },
  {
   "cell_type": "code",
   "execution_count": null,
   "id": "moved-panel",
   "metadata": {},
   "outputs": [],
   "source": []
  }
 ],
 "metadata": {
  "kernelspec": {
   "display_name": "Python 3",
   "language": "python",
   "name": "python3"
  },
  "language_info": {
   "codemirror_mode": {
    "name": "ipython",
    "version": 3
   },
   "file_extension": ".py",
   "mimetype": "text/x-python",
   "name": "python",
   "nbconvert_exporter": "python",
   "pygments_lexer": "ipython3",
   "version": "3.8.2"
  }
 },
 "nbformat": 4,
 "nbformat_minor": 5
}
